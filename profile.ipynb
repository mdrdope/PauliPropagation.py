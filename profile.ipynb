{
 "cells": [
  {
   "cell_type": "code",
   "execution_count": 1,
   "metadata": {},
   "outputs": [],
   "source": [
    "import sys\n",
    "sys.path.insert(0, r'C:\\Users\\woyao\\Desktop\\Cambridge\\ym432')  # adjust to your project root\n",
    "%load_ext line_profiler"
   ]
  },
  {
   "cell_type": "code",
   "execution_count": 2,
   "metadata": {},
   "outputs": [],
   "source": [
    "import linecache, sys\n",
    "for mod in list(sys.modules):\n",
    "    if mod.startswith(\"pauli_propagation\"):\n",
    "        del sys.modules[mod]\n",
    "linecache.clearcache()"
   ]
  },
  {
   "cell_type": "code",
   "execution_count": 3,
   "metadata": {},
   "outputs": [],
   "source": [
    "from pauli_propagation.propagator import PauliPropagator\n",
    "from pauli_propagation.utils      import weight_of_key, encode_pauli, random_su4\n",
    "from pauli_propagation.gates      import QuantumGate\n",
    "from pauli_propagation.pauli_term import PauliTerm\n",
    "\n",
    "from qiskit import QuantumCircuit\n",
    "from qiskit.circuit.library import UnitaryGate\n",
    "from qiskit.quantum_info    import Pauli\n",
    "\n",
    "import random\n"
   ]
  },
  {
   "cell_type": "code",
   "execution_count": 4,
   "metadata": {},
   "outputs": [],
   "source": [
    "def _staircase_edges(nx, ny):\n",
    "    next_inds, temp_inds, edges = [1], [], []\n",
    "    while next_inds:\n",
    "        for i in next_inds:\n",
    "            if i % nx != 0:\n",
    "                edges.append((i, i+1))\n",
    "                temp_inds.append(i+1)\n",
    "            if ((i-1)//nx + 1) < ny:\n",
    "                edges.append((i, i+nx))\n",
    "                temp_inds.append(i+nx)\n",
    "        next_inds, temp_inds = temp_inds, []\n",
    "    seen, uniq = set(), []\n",
    "    for e in edges:\n",
    "        if e not in seen:\n",
    "            seen.add(e)\n",
    "            uniq.append(e)\n",
    "    return uniq\n",
    "\n",
    "def staircasetopology2d_qc(nx, ny):\n",
    "    nqubits = nx*ny\n",
    "    qc = QuantumCircuit(nqubits)\n",
    "    for k, (q1, q2) in enumerate(_staircase_edges(nx, ny)):\n",
    "        mat  = random_su4()\n",
    "        gate = UnitaryGate(mat, label=f\"SU4_{k}\")\n",
    "        gate._name = \"su4\"\n",
    "        qc.append(gate, [q1-1, q2-1])\n",
    "    return qc\n"
   ]
  },
  {
   "cell_type": "code",
   "execution_count": 5,
   "metadata": {},
   "outputs": [],
   "source": [
    "nx, ny = 4, 4\n",
    "qc_2d = staircasetopology2d_qc(nx, ny)\n",
    "\n",
    "n = qc_2d.num_qubits\n",
    "pauli_label = \"X\" + \"I\"*(n-1)\n",
    "key = encode_pauli(Pauli(pauli_label))\n",
    "init_term = PauliTerm(1.0, key, n)\n",
    "\n",
    "prop_2d = PauliPropagator(qc_2d)"
   ]
  },
  {
   "cell_type": "code",
   "execution_count": null,
   "metadata": {},
   "outputs": [
    {
     "data": {
      "application/vnd.jupyter.widget-view+json": {
       "model_id": "aa5da60a3666413cad2f0b886ad6a6d2",
       "version_major": 2,
       "version_minor": 0
      },
      "text/plain": [
       "Propagating:   0%|          | 0/24 [00:00<?, ?it/s]"
      ]
     },
     "metadata": {},
     "output_type": "display_data"
    }
   ],
   "source": [
    "# %%\n",
    "# Cell 6: line‐by‐line profiling of propagate()\n",
    "%lprun -f PauliPropagator.propagate \\\n",
    "       -f weight_of_key \\\n",
    "       -f QuantumGate.get \\\n",
    "       _ = prop_2d.propagate(init_term, max_weight=3)"
   ]
  }
 ],
 "metadata": {
  "kernelspec": {
   "display_name": "dis_qc",
   "language": "python",
   "name": "python3"
  },
  "language_info": {
   "codemirror_mode": {
    "name": "ipython",
    "version": 3
   },
   "file_extension": ".py",
   "mimetype": "text/x-python",
   "name": "python",
   "nbconvert_exporter": "python",
   "pygments_lexer": "ipython3",
   "version": "3.10.17"
  }
 },
 "nbformat": 4,
 "nbformat_minor": 2
}
