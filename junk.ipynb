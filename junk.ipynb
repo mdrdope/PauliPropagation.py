{
 "cells": [
  {
   "cell_type": "code",
   "execution_count": 18,
   "metadata": {},
   "outputs": [
    {
     "name": "stdout",
     "output_type": "stream",
     "text": [
      "Qiskit version: 2.0.0\n"
     ]
    }
   ],
   "source": [
    "# ---------- Central registry of Pauli conjugation rules ----------\n",
    "# Import Qiskit Library\n",
    "from qiskit import QuantumCircuit\n",
    "from qiskit.quantum_info import Pauli, Statevector\n",
    "import matplotlib.pyplot as plt\n",
    "from qiskit import __version__ as qiskit_version\n",
    "import numpy as np\n",
    "from typing import Callable, Dict, List\n",
    "from collections import defaultdict\n",
    "\n",
    "# Print the Qiskit version\n",
    "print(f\"Qiskit version: {qiskit_version}\")\n",
    "\n",
    "\n",
    "# ----------------------------------------------------------------------\n",
    "# One term  α · P  in a Pauli expansion (Qiskit’s label order)\n",
    "# ----------------------------------------------------------------------\n",
    "class PauliPath:\n",
    "    \"\"\"\n",
    "    One term α·P appearing in a Pauli-operator expansion.\n",
    "\n",
    "    A ``PauliPath`` stores the complex coefficient (``coeff``) and the\n",
    "    corresponding multi-qubit Pauli operator (``pauli``) expressed as a\n",
    "    :class:`qiskit.quantum_info.Pauli` object.\n",
    "\n",
    "    Parameters\n",
    "    ----------\n",
    "    coeff : complex\n",
    "        Complex prefactor multiplying the Pauli operator.\n",
    "    pauli : qiskit.quantum_info.Pauli\n",
    "        Tensor product of single-qubit Pauli matrices in Qiskit label order\n",
    "        (right-most character = qubit-0).\n",
    "\n",
    "    Attributes\n",
    "    ----------\n",
    "    coeff : complex\n",
    "        Complex prefactor of the Pauli term.\n",
    "    pauli : qiskit.quantum_info.Pauli\n",
    "        Underlying Pauli operator.\n",
    "\n",
    "    Notes\n",
    "    -----\n",
    "    * In Qiskit’s little-endian convention, label ``'XYZ'`` represents the\n",
    "      operator :math:`X \\\\otimes Y \\\\otimes Z` acting with *Z* on qubit-0,\n",
    "      *Y* on qubit-1 and *X* on qubit-2.\n",
    "    * The helper method :py:meth:`label_lsb` returns the label reversed so\n",
    "      that the left-most character corresponds to qubit-0 (LSB-first\n",
    "      representation).\n",
    "    * The :py:meth:`__repr__` string follows the pattern ``'+0.5·IXY'`` for\n",
    "      readability in debug output.\n",
    "\n",
    "    Examples\n",
    "    --------\n",
    "    >>> from qiskit.quantum_info import Pauli\n",
    "    >>> term = PauliPath(0.5, Pauli('IXY'))\n",
    "    >>> term.coeff\n",
    "    (0.5+0j)\n",
    "    >>> term.label_lsb()\n",
    "    'YXI'\n",
    "    \"\"\"\n",
    "    __slots__ = (\"coeff\", \"pauli\")\n",
    "\n",
    "    def __init__(self, coeff: complex, pauli: Pauli):\n",
    "        self.coeff = coeff\n",
    "        self.pauli = pauli\n",
    "\n",
    "    def label_lsb(self) -> str:\n",
    "        return self.pauli.to_label()[::-1] \n",
    "\n",
    "    def __repr__(self) -> str:                # e.g. \"+0.5·IXY\"\n",
    "        # return f\"{self.coeff:+g}·{self.pauli.to_label()}\"\n",
    "        return f\"{self.coeff:+g}·{self.label_lsb()}\"\n",
    "\n",
    "\n",
    "class QuantumGate:\n",
    "    \"\"\"\n",
    "    A registry for quantum gate Pauli conjugation rules.\n",
    "    \n",
    "    This class serves as a central registry for storing and retrieving\n",
    "    Pauli conjugation rules for different quantum gates. Each rule defines\n",
    "    how a Pauli operator transforms when conjugated by a specific gate.\n",
    "    \n",
    "    Attributes\n",
    "    ----------\n",
    "    _registry : Dict[str, Callable]\n",
    "        Dictionary mapping gate names to their corresponding conjugation rule functions.\n",
    "        \n",
    "    Methods\n",
    "    -------\n",
    "    register(name)\n",
    "        Decorator to register a new conjugation rule under the specified name.\n",
    "    get(name)\n",
    "        Retrieve the conjugation rule function for the specified gate name.\n",
    "        \n",
    "    Notes\n",
    "    -----\n",
    "    When a rule is registered using the `register` decorator, it is also\n",
    "    attached as a static method to the class with an uppercase name followed\n",
    "    by \"gate\" (e.g., \"CXgate\" for \"cx\").\n",
    "    \n",
    "    Each registered rule should be a pure function that takes a PauliPath\n",
    "    and relevant qubit indices as input, and returns a list of PauliPath\n",
    "    objects representing the result after conjugation.\n",
    "    \n",
    "    Examples\n",
    "    --------\n",
    "    >>> @QuantumGate.register(\"new_gate\")\n",
    "    >>> def _new_gate_rule(path, qubit):\n",
    "    ...     # Implementation of the rule\n",
    "    ...     return [transformed_path]\n",
    "    ...\n",
    "    >>> # Can be accessed in two ways:\n",
    "    >>> QuantumGate.get(\"new_gate\")(path, 0)\n",
    "    >>> QuantumGate.NEW_GATEgate(path, 0)\n",
    "    \"\"\"\n",
    "\n",
    "\n",
    "    # {\"cx\": some_function, \"t\": another_function, ...}\n",
    "    _registry: Dict[str, Callable] = {}\n",
    "\n",
    "    # -------- registration decorator --------\n",
    "    @classmethod\n",
    "    def register(cls, name: str):\n",
    "        \"\"\"Decorator: register a new rule under *name* and\n",
    "        attach it as <NAME>gate attribute for convenience.\"\"\"\n",
    "        def wrapper(func: Callable):\n",
    "            # add name of gate and actual function of gate to class variable _registry\n",
    "            cls._registry[name] = func \n",
    "\n",
    "            # it gives the cls a method named \"CXgate\" from \"_cx_rule\"\n",
    "            setattr(cls, f\"{name.upper()}gate\", staticmethod(func)) \n",
    "            return staticmethod(func)\n",
    "        return wrapper\n",
    "\n",
    "    # -------- lookup helper --------\n",
    "    @classmethod\n",
    "    def get(cls, name: str) -> Callable:\n",
    "        '''\n",
    "        Search for if _registry contains a function associated with \"name\"\n",
    "        If can't find it, raise an error\n",
    "        '''\n",
    "        try:\n",
    "            return cls._registry[name]\n",
    "        except KeyError as exc:\n",
    "            raise NotImplementedError(f\"No rule registered for gate '{name}'\") from exc\n",
    "\n",
    "\n",
    "# ---------- Implementation of CX and T gates ----------\n",
    "# !!! 需要给这玩意写test\n",
    "@QuantumGate.register(\"cx\")\n",
    "def _cx_rule(path: PauliPath, ctrl: int, tgt: int) -> List[PauliPath]:\n",
    "    \"\"\"\n",
    "    Conjugate a Pauli operator by a controlled-X (CNOT) gate.\n",
    "    \n",
    "    This function implements the transformation rule for conjugating a Pauli\n",
    "    operator by a CNOT gate: U†PU where U is the CNOT gate from control to target.\n",
    "    \n",
    "    The transformation follows these rules:\n",
    "    - X on control: X_c -> X_c X_t\n",
    "    - Z on control: Z_c -> Z_c\n",
    "    - Y on control: Y_c -> Y_c X_t\n",
    "    - X on target: X_t -> X_t\n",
    "    - Z on target: Z_t -> Z_c Z_t\n",
    "    - Y on target: Y_t -> Z_c Y_t\n",
    "    \n",
    "    Parameters\n",
    "    ----------\n",
    "    path : PauliPath\n",
    "        The Pauli path to be transformed.\n",
    "    ctrl : int\n",
    "        Index of the control qubit.\n",
    "    tgt : int\n",
    "        Index of the target qubit.\n",
    "    \n",
    "    Returns\n",
    "    -------\n",
    "    List[PauliPath]\n",
    "        A list containing a single PauliPath representing the transformed operator.\n",
    "        \n",
    "    Notes\n",
    "    -----\n",
    "    The implementation uses the binary representation of Pauli operators:\n",
    "    - (z=0, x=0) : I (identity)\n",
    "    - (z=0, x=1) : X\n",
    "    - (z=1, x=0) : Z\n",
    "    - (z=1, x=1) : Y = i*X*Z\n",
    "    \n",
    "    The XOR operation (^=) is used to toggle bits according to the transformation rules.\n",
    "    \"\"\"\n",
    "    z, x = path.pauli.z.copy(), path.pauli.x.copy()\n",
    "\n",
    "    # control qubit transforms\n",
    "    if x[ctrl] and not z[ctrl]:        # Xc → Xc Xt\n",
    "        # x[ctrl] = 1, z[ctrl] = 0, (z[ctrl], x[ctrl]) = (0,1), is X\n",
    "        # X[tgt]\n",
    "        x[tgt] ^= True  # ^= is XOR, \n",
    "    elif x[ctrl] and z[ctrl]:          # Yc → Yc Xt\n",
    "        x[tgt] ^= True\n",
    "    # Zc unchanged\n",
    "\n",
    "    # target qubit transforms\n",
    "    if x[tgt] and z[tgt]:              # Yt → Zc Yt\n",
    "        z[ctrl] ^= True\n",
    "    elif z[tgt] and not x[tgt]:        # Zt → Zc Zt\n",
    "        z[ctrl] ^= True\n",
    "    # Xt unchanged\n",
    "\n",
    "    return [PauliPath(path.coeff, Pauli((z, x)))]\n",
    "\n",
    "\n",
    "@QuantumGate.register(\"t\")\n",
    "def _t_rule(path: PauliPath, q: int) -> List[PauliPath]:\n",
    "    \"\"\"Conjugate a Pauli operator by a T gate (π/4 phase on |1⟩).\n",
    "    \n",
    "    This function implements the transformation rules for Pauli operators\n",
    "    when conjugated by a T gate (T† P T). The T gate applies a π/4 phase\n",
    "    to the |1⟩ state.\n",
    "    \n",
    "    The transformation rules are:\n",
    "    - Z → Z (unchanged)\n",
    "    - X → (X - Y)/√2\n",
    "    - Y → (X + Y)/√2\n",
    "    - I → I (unchanged)\n",
    "    \n",
    "    Parameters\n",
    "    ----------\n",
    "    path : PauliPath\n",
    "        The Pauli path to be transformed.\n",
    "    q : int\n",
    "        Index of the qubit on which the T gate acts.\n",
    "        \n",
    "    Returns\n",
    "    -------\n",
    "    List[PauliPath]\n",
    "        A list of PauliPath objects representing the transformed operator.\n",
    "        For Z and I operators, returns a single-element list with the original path.\n",
    "        For X and Y operators, returns a two-element list with the transformed paths.\n",
    "        \n",
    "    Notes\n",
    "    -----\n",
    "    The T gate is a single-qubit phase gate that applies a π/4 phase shift.\n",
    "    It is represented by the matrix:\n",
    "    T = [[1, 0], [0, exp(iπ/4)]]\n",
    "    \n",
    "    This implementation uses the binary representation of Pauli operators where\n",
    "    each operator is encoded by two binary arrays (z, x).\n",
    "    \"\"\"\n",
    "    z, x = path.pauli.z.copy(), path.pauli.x.copy()\n",
    "\n",
    "    # Z  → unchanged\n",
    "    if z[q] and not x[q]:\n",
    "        return [path]\n",
    "\n",
    "    # X  → (X − Y)/√2\n",
    "    if x[q] and not z[q]:\n",
    "        p1 = PauliPath(path.coeff / np.sqrt(2), path.pauli)            # +X\n",
    "        z2 = z.copy(); z2[q] = True                                    # +Y\n",
    "        p2 = PauliPath(-path.coeff / np.sqrt(2), Pauli((z2, x)))       # −Y\n",
    "        return [p1, p2]\n",
    "\n",
    "    # Y  → (X + Y)/√2\n",
    "    if x[q] and z[q]:\n",
    "        p1 = PauliPath(path.coeff / np.sqrt(2), path.pauli)            # +Y\n",
    "        z2 = z.copy(); z2[q] = False                                   # +X\n",
    "        p2 = PauliPath(path.coeff / np.sqrt(2), Pauli((z2, x)))        # +X\n",
    "        return [p1, p2]\n",
    "\n",
    "    # I on that qubit\n",
    "    return [path]\n"
   ]
  },
  {
   "cell_type": "code",
   "execution_count": 19,
   "metadata": {},
   "outputs": [
    {
     "data": {
      "text/html": [
       "<pre style=\"word-wrap: normal;white-space: pre;background: #fff0;line-height: 1.1;font-family: &quot;Courier New&quot;,Courier,monospace\">          ┌───┐     \n",
       "q_0: ──■──┤ T ├─────\n",
       "     ┌─┴─┐├───┤     \n",
       "q_1: ┤ X ├┤ T ├──■──\n",
       "     ├───┤└───┘┌─┴─┐\n",
       "q_2: ┤ T ├─────┤ X ├\n",
       "     └───┘     └───┘</pre>"
      ],
      "text/plain": [
       "          ┌───┐     \n",
       "q_0: ──■──┤ T ├─────\n",
       "     ┌─┴─┐├───┤     \n",
       "q_1: ┤ X ├┤ T ├──■──\n",
       "     ├───┤└───┘┌─┴─┐\n",
       "q_2: ┤ T ├─────┤ X ├\n",
       "     └───┘     └───┘"
      ]
     },
     "execution_count": 19,
     "metadata": {},
     "output_type": "execute_result"
    }
   ],
   "source": [
    "from qiskit import QuantumCircuit\n",
    "from qiskit.quantum_info import Pauli\n",
    "\n",
    "# 你的 3-层电路:\n",
    "qc = QuantumCircuit(3, name=\"demo\")\n",
    "qc.cx(0, 1)          # layer-1\n",
    "for q in range(3):   # layer-2\n",
    "    qc.t(q)\n",
    "qc.cx(1, 2)          # layer-3\n",
    "qc.draw('text')\n"
   ]
  },
  {
   "cell_type": "code",
   "execution_count": 20,
   "metadata": {},
   "outputs": [
    {
     "data": {
      "text/plain": [
       "{<Qubit register=(3, \"q\"), index=0>: 0,\n",
       " <Qubit register=(3, \"q\"), index=1>: 1,\n",
       " <Qubit register=(3, \"q\"), index=2>: 2}"
      ]
     },
     "execution_count": 20,
     "metadata": {},
     "output_type": "execute_result"
    }
   ],
   "source": [
    "q2i = {}\n",
    "for i, q in enumerate(qc.qubits):\n",
    "    q2i[q] = i\n",
    "q2i"
   ]
  },
  {
   "cell_type": "code",
   "execution_count": 21,
   "metadata": {},
   "outputs": [
    {
     "name": "stdout",
     "output_type": "stream",
     "text": [
      "CircuitInstruction(operation=Instruction(name='cx', num_qubits=2, num_clbits=0, params=[]), qubits=(<Qubit register=(3, \"q\"), index=0>, <Qubit register=(3, \"q\"), index=1>), clbits=())\n",
      "CircuitInstruction(operation=Instruction(name='t', num_qubits=1, num_clbits=0, params=[]), qubits=(<Qubit register=(3, \"q\"), index=0>,), clbits=())\n",
      "CircuitInstruction(operation=Instruction(name='t', num_qubits=1, num_clbits=0, params=[]), qubits=(<Qubit register=(3, \"q\"), index=1>,), clbits=())\n",
      "CircuitInstruction(operation=Instruction(name='t', num_qubits=1, num_clbits=0, params=[]), qubits=(<Qubit register=(3, \"q\"), index=2>,), clbits=())\n",
      "CircuitInstruction(operation=Instruction(name='cx', num_qubits=2, num_clbits=0, params=[]), qubits=(<Qubit register=(3, \"q\"), index=1>, <Qubit register=(3, \"q\"), index=2>), clbits=())\n"
     ]
    }
   ],
   "source": [
    "for d in qc.data:\n",
    "    print(d)\n"
   ]
  },
  {
   "cell_type": "code",
   "execution_count": 7,
   "metadata": {},
   "outputs": [
    {
     "name": "stdout",
     "output_type": "stream",
     "text": [
      "step 0  : [+1·IXI]\n"
     ]
    }
   ],
   "source": [
    "# ─── 0. 准备：初始可观测量 ───\n",
    "paths = [PauliPath(1.0, Pauli(\"IXI\"))]   #  q2 q1 q0 = I X I\n",
    "print(\"step 0  :\", paths)                # [+1·IXI]\n",
    "\n"
   ]
  },
  {
   "cell_type": "code",
   "execution_count": 9,
   "metadata": {},
   "outputs": [
    {
     "data": {
      "text/plain": [
       "[+1·IXX]"
      ]
     },
     "execution_count": 9,
     "metadata": {},
     "output_type": "execute_result"
    }
   ],
   "source": [
    "# ─── 1. 第一层（最右边）门：CX(control=1, target=2) ───\n",
    "instr = qc.data[-1]                      # 最后一条指令\n",
    "rule  = QuantumGate.get(instr.operation.name)\n",
    "qidx  = [qc.qubits.index(q) for q in instr.qubits]   # [1, 2]\n",
    "\n",
    "next_paths = []\n",
    "for p in paths:\n",
    "    next_paths.extend(rule(p, *qidx))    # 调用 _cx_rule\n",
    "next_paths"
   ]
  },
  {
   "cell_type": "code",
   "execution_count": 22,
   "metadata": {},
   "outputs": [
    {
     "data": {
      "text/plain": [
       "[1, 2]"
      ]
     },
     "execution_count": 22,
     "metadata": {},
     "output_type": "execute_result"
    }
   ],
   "source": [
    "qidx"
   ]
  },
  {
   "cell_type": "code",
   "execution_count": 14,
   "metadata": {},
   "outputs": [
    {
     "data": {
      "text/plain": [
       "(<Qubit register=(3, \"q\"), index=1>, <Qubit register=(3, \"q\"), index=2>)"
      ]
     },
     "execution_count": 14,
     "metadata": {},
     "output_type": "execute_result"
    }
   ],
   "source": [
    "instr.qubits"
   ]
  },
  {
   "cell_type": "code",
   "execution_count": 10,
   "metadata": {},
   "outputs": [
    {
     "data": {
      "text/plain": [
       "[+1·IXX]"
      ]
     },
     "execution_count": 10,
     "metadata": {},
     "output_type": "execute_result"
    }
   ],
   "source": [
    "#   1-a  可选重量截断 (这里只有演示; 设 max_weight=None 就什么也不做)\n",
    "max_weight = None\n",
    "if max_weight is not None:\n",
    "    next_paths = [p for p in next_paths\n",
    "                  if (p.pauli.x | p.pauli.z).sum() <= max_weight]\n",
    "    \n",
    "next_paths"
   ]
  },
  {
   "cell_type": "code",
   "execution_count": 12,
   "metadata": {},
   "outputs": [
    {
     "data": {
      "text/plain": [
       "[+1+0j·IXX]"
      ]
     },
     "execution_count": 12,
     "metadata": {},
     "output_type": "execute_result"
    }
   ],
   "source": [
    "#   1-b  合并同标签项\n",
    "bucket = defaultdict(complex)\n",
    "for p in next_paths:\n",
    "    bucket[p.pauli.to_label()] += p.coeff\n",
    "paths = [PauliPath(c, Pauli(lbl)) for lbl, c in bucket.items()]\n",
    "paths"
   ]
  },
  {
   "cell_type": "code",
   "execution_count": 13,
   "metadata": {},
   "outputs": [
    {
     "name": "stdout",
     "output_type": "stream",
     "text": [
      "step 1  after CX(1→2): [+1+0j·IXX]\n"
     ]
    }
   ],
   "source": [
    "#   1-c  排序（权重升序，同权重时把正实系数的排前面）\n",
    "paths.sort(key=lambda p: ((p.pauli.x | p.pauli.z).sum(),\n",
    "                          p.coeff.real < 0))\n",
    "\n",
    "print(\"step 1  after CX(1→2):\", paths)   # [+1·XXI]"
   ]
  },
  {
   "cell_type": "code",
   "execution_count": null,
   "metadata": {},
   "outputs": [],
   "source": [
    "# ── 2. 结果：最左端的 Pauli 展开 ────────────────────────────\n",
    "final_paths = paths          # per_layer[-1] 也一样\n",
    "print(\"\\nfinal_paths :\", final_paths)\n",
    "# 预期打印：\n",
    "#   [+0.707107·IXI  -0.707107·ZYI]\n",
    "\n",
    "# ── 3. 单量子比特期望值（|+>⊗3） ────────────────────────────\n",
    "plus_ev = {'I': 1.0, 'X': 1.0, 'Y': 0.0, 'Z': 0.0}\n",
    "\n",
    "# ── 4. 手工累加 ⟨O⟩ ─────────────────────────────────────\n",
    "exp_val = 0.0\n",
    "for p in final_paths:\n",
    "    term = p.coeff\n",
    "    print(f\"\\nPath {p} :\")\n",
    "    for letter in p.label_lsb():            # 顺序 q0, q1, q2\n",
    "        print(f\"  × ⟨{letter}⟩\", end=\"\")\n",
    "        term *= plus_ev.get(letter, 0.0)\n",
    "        if term == 0.0:\n",
    "            print(\" = 0  (提前终止)\")\n",
    "            break\n",
    "        else:\n",
    "            print(f\" = {term}\")\n",
    "    exp_val += term\n",
    "\n",
    "print(f\"\\nExpectation  ⟨XXI⟩_|+>⊗3  with k=2  =  {exp_val}\")"
   ]
  },
  {
   "cell_type": "code",
   "execution_count": null,
   "metadata": {},
   "outputs": [],
   "source": [
    "# ------------------------\n",
    "# 试验参数\n",
    "# ------------------------\n",
    "\n",
    "\n",
    "TRIALS   = 500          # 运行次数\n",
    "TOLERANCE = 1e-12      # np.allclose 容差\n",
    "\n",
    "failures = 0\n",
    "\n",
    "_single = {\"I\": np.eye(2, dtype=complex),\n",
    "           \"X\": np.array([[0, 1], [1, 0]], dtype=complex),\n",
    "           \"Y\": np.array([[0, -1j], [1j, 0]], dtype=complex),\n",
    "           \"Z\": np.array([[1, 0], [0, -1]], dtype=complex)}\n",
    "    \n",
    "def pauli_to_matrix(label: str) -> np.ndarray:\n",
    "    \"\"\"2-qubit label (big-endian) → 4×4 matrix.\"\"\"\n",
    "    return np.kron(_single[label[0]], _single[label[1]])\n",
    "\n",
    "def series_to_matrix(series):\n",
    "    \"\"\"list[PauliTerm] → summed 4×4 matrix.\"\"\"\n",
    "    acc = np.zeros((4, 4), dtype=complex)\n",
    "    for term in series:\n",
    "        acc += term.coeff * pauli_to_matrix(term.pauli.to_label())\n",
    "    return acc\n",
    "LABELS_2Q = [\"\".join(p) for p in itertools.product(\"IXYZ\", repeat=2)]\n",
    "for _ in range(TRIALS):\n",
    "    # --- 1. 随机 SU(4) 门 -------------------\n",
    "    U = random_su4()\n",
    "    gate = UnitaryGate(U, label=\"randSU4\"); gate._name = \"su4\"\n",
    "    \n",
    "    # --- 2. Very small circuit --------------\n",
    "    qc = QuantumCircuit(2)\n",
    "    qc.append(gate, [0, 1])   # [高位, 低位] → big-endian\n",
    "    \n",
    "    # --- 3. 随机输入 Pauli -------------------\n",
    "    label = np.random.choice(LABELS_2Q)\n",
    "    P_in  = Pauli(label)\n",
    "    \n",
    "    # --- 4. Propagate ------------------------\n",
    "    prop   = PauliPropagator(qc)\n",
    "    series = prop.propagate(PauliTerm(1.0, P_in))[-1]   # list[PauliTerm]\n",
    "    \n",
    "    # --- 5. 矩阵对比 -------------------------\n",
    "    lhs = U.conj().T @ pauli_to_matrix(label) @ U   # U† P U\n",
    "    rhs = series_to_matrix(series)                  # Σ cᵢ Pᵢ\n",
    "    \n",
    "    if not np.allclose(lhs, rhs, atol=TOLERANCE):\n",
    "        failures += 1\n",
    "\n",
    "print(f\"Total failures: {failures} / {TRIALS}\")\n"
   ]
  },
  {
   "cell_type": "code",
   "execution_count": null,
   "metadata": {},
   "outputs": [],
   "source": [
    "\n",
    "\n",
    "# --------------------------------------------------------------------\n",
    "SYMS_STATE = \"01+-rl\"\n",
    "SYMS_PAULI = \"IXYZ\"\n",
    "\n",
    "def random_state_label(n: int) -> str:\n",
    "    \"\"\"Random product-state label, big-endian (left char = qubit-n-1).\"\"\"\n",
    "    return \"\".join(random.choice(SYMS_STATE) for _ in range(n))\n",
    "\n",
    "\n",
    "def random_pauli_label(n: int) -> str:\n",
    "    \"\"\"Random Pauli label with at least one non-I.\"\"\"\n",
    "    label = [\"I\"] * n\n",
    "    idx = random.randrange(n)               # ensure one non-I\n",
    "    label[idx] = random.choice(\"XYZ\")\n",
    "    for i in range(n):\n",
    "        if i != idx:\n",
    "            label[i] = random.choice(SYMS_PAULI)\n",
    "    return \"\".join(label)\n",
    "\n",
    "def build_random_circuit(n: int, gate_count: int) -> QuantumCircuit:\n",
    "    \"\"\"Generate a random circuit containing T, CX and SU(4) gates.\"\"\"\n",
    "    qc = QuantumCircuit(n, name=f\"rand_mix_{n}q_{gate_count}g\")\n",
    "    for _ in range(gate_count):\n",
    "        gtype = random.choice((\"t\", \"cx\", \"su4\"))\n",
    "        if gtype == \"t\":\n",
    "            qc.t(random.randrange(n))\n",
    "        elif gtype == \"cx\":\n",
    "            ctrl, tgt = random.sample(range(n), 2)\n",
    "            qc.cx(ctrl, tgt)\n",
    "        else:                               # SU(4)\n",
    "            q1, q2 = random.sample(range(n), 2)\n",
    "            gate = UnitaryGate(random_su4(), label=\"randSU4\")\n",
    "            gate._name = \"su4\"              # dispatch → _su4_rule\n",
    "            qc.append(gate, [q1, q2])\n",
    "    return qc\n",
    "\n",
    "# --------------------------------------------------------------------\n",
    "TRIALS = 100\n",
    "TOL     = 1e-10\n",
    "\n",
    "for _ in tqdm(range(TRIALS)):\n",
    "    \"\"\"Compare PauliPropagator vs exact state-vector for random circuits.\"\"\"\n",
    "    n          = random.randint(3, 10)\n",
    "    gate_count = random.randint(5, 10)\n",
    "    qc         = build_random_circuit(n, gate_count)\n",
    "\n",
    "    state_lbl  = random_state_label(n)\n",
    "    pauli_lbl  = random_pauli_label(n)\n",
    "    observable = Pauli(pauli_lbl)\n",
    "\n",
    "    # --- PauliPropagator expectation ---------------------------------\n",
    "    prop = PauliPropagator(qc)\n",
    "    layers   = prop.propagate(PauliTerm(1.0, observable))\n",
    "    prop_ev  = prop.expectation_pauli_sum(layers[-1], state_lbl)\n",
    "\n",
    "    # --- Full state-vector expectation -------------------------------\n",
    "    sv_ev = Statevector.from_label(state_lbl).evolve(qc).expectation_value(\n",
    "        SparsePauliOp.from_list([(pauli_lbl, 1.0)])).real\n",
    "\n",
    "    print(abs(prop_ev - sv_ev) < TOL)"
   ]
  }
 ],
 "metadata": {
  "kernelspec": {
   "display_name": "dis_qc",
   "language": "python",
   "name": "python3"
  },
  "language_info": {
   "codemirror_mode": {
    "name": "ipython",
    "version": 3
   },
   "file_extension": ".py",
   "mimetype": "text/x-python",
   "name": "python",
   "nbconvert_exporter": "python",
   "pygments_lexer": "ipython3",
   "version": "3.10.17"
  }
 },
 "nbformat": 4,
 "nbformat_minor": 2
}
