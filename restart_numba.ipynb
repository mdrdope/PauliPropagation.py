{
 "cells": [
  {
   "cell_type": "code",
   "execution_count": 1,
   "id": "82fd9078",
   "metadata": {},
   "outputs": [],
   "source": [
    "\n",
    "from dataclasses import dataclass\n",
    "from typing import Dict, List, Tuple\n",
    "from collections import defaultdict\n",
    "import random\n",
    "import logging\n",
    "\n",
    "import numpy as np\n",
    "import matplotlib.pyplot as plt\n",
    "\n",
    "from qiskit import QuantumCircuit\n",
    "from qiskit.quantum_info import Pauli, Statevector\n",
    "from qiskit.circuit.library import UnitaryGate\n",
    "\n",
    "\n",
    "from numba import njit, complex128, int64\n",
    "\n",
    "from pauli_propagation import PauliTerm, PauliPropagator\n",
    "from pauli_propagation.utils import random_su4, encode_pauli"
   ]
  },
  {
   "cell_type": "code",
   "execution_count": 2,
   "id": "8b9a0a4c",
   "metadata": {},
   "outputs": [],
   "source": [
    "np.random.seed(42)\n",
    "def _staircase_edges(nx, ny):\n",
    "    \"\"\"Return the ordered list of 1-based index pairs of the staircase walk.\"\"\"\n",
    "    next_inds, temp_inds, edges = [1], [], []\n",
    "    while next_inds:\n",
    "        for ind in next_inds:\n",
    "            if ind % nx != 0:                      # step right\n",
    "                nxt = ind + 1\n",
    "                edges.append((ind, nxt)); temp_inds.append(nxt)\n",
    "            if ((ind-1)//nx + 1) < ny:             # step down\n",
    "                nxt = ind + nx\n",
    "                edges.append((ind, nxt)); temp_inds.append(nxt)\n",
    "        next_inds, temp_inds = temp_inds, []\n",
    "    seen, uniq = set(), []\n",
    "    for e in edges:                                # preserve order, dedup\n",
    "        if e not in seen:\n",
    "            seen.add(e); uniq.append(e)\n",
    "    return uniq\n",
    "\n",
    "def staircasetopology2d_qc(nx, ny, L):\n",
    "    \"\"\"\n",
    "    Build a QuantumCircuit that places a fresh SU(4) gate on every edge\n",
    "    of the 2-D staircase topology for an nx × ny grid (row-major indexing).\n",
    "    \"\"\"\n",
    "    nqubits = nx * ny\n",
    "    qc = QuantumCircuit(nqubits)\n",
    "    for _ in range(L):\n",
    "        for k, (q1, q2) in enumerate(_staircase_edges(nx, ny)):  # 1-based\n",
    "            mat = random_su4()\n",
    "            gate = UnitaryGate(mat, label=f\"SU4_{k}\")   # create the gate\n",
    "            gate._name = \"su4\"                          # override its name\n",
    "            qc.append(gate, [q1-1, q2-1])               # 0-based\n",
    "    return qc\n",
    "\n",
    "# Example usage:\n",
    "L = 1\n",
    "nx, ny = 5,5\n",
    "qc_2d = staircasetopology2d_qc(nx, ny, L)\n",
    "\n",
    "# fig = qc_2d.draw(output=\"mpl\", fold=-1)   # no line-wrapping\n",
    "# plt.show()"
   ]
  },
  {
   "cell_type": "code",
   "execution_count": 3,
   "id": "96e75e02",
   "metadata": {},
   "outputs": [],
   "source": [
    "n = qc_2d.num_qubits # Here n is number of qubit in 2d circuit\n",
    "\n",
    "plus_label = \"+\" * n # build a string of \"+\" of length n, e.g. \"+++++\"\n",
    "\n",
    "# ─── Build the single-qubit X observable on qubit 0 ───────────────────────────\n",
    "pauli_label = \"X\" + \"I\" * (n - 1) # For X on qubit 0 and Identity elsewhere, we need \"X\" + \"I\"*(n-1)\n",
    "obs = Pauli(pauli_label)"
   ]
  },
  {
   "cell_type": "code",
   "execution_count": 4,
   "id": "539bd38a",
   "metadata": {},
   "outputs": [],
   "source": [
    "# 5*5, 1 layer, k = 3, 12s\n",
    "# 5*5, 1 layer, k =4, 153s\n",
    "# 5*5, 2 layers, k = 3, 47s\n",
    "\n",
    "# 6,6, 1 layer, k = 3, 29.5s\n",
    "# 6,6, 2 layers, k = 3, 123s"
   ]
  },
  {
   "cell_type": "code",
   "execution_count": 5,
   "id": "9fe8644b",
   "metadata": {},
   "outputs": [
    {
     "name": "stdout",
     "output_type": "stream",
     "text": [
      "1\n",
      "2\n",
      "3\n",
      "0.12079133418758366\n"
     ]
    }
   ],
   "source": [
    "# 感觉精度变差了，尝试提高精度\n",
    "\n",
    "prop_2d   = PauliPropagator(qc_2d)\n",
    "print('1')\n",
    "\n",
    "# 把字符串 → qiskit.Pauli → 位掩码\n",
    "key_obs = encode_pauli(Pauli(pauli_label))\n",
    "\n",
    "# 新构造方式：PauliTerm(coeff, key, n)\n",
    "obs_term = PauliTerm(1.0, key_obs, qc_2d.num_qubits)\n",
    "\n",
    "# 反向传播（可选 max_weight）\n",
    "layers_2d = prop_2d.propagate(obs_term, max_weight = 3)\n",
    "print('2')\n",
    "# 计算期望值\n",
    "plus_label = \"+\" * qc_2d.num_qubits         # |+⟩^{⊗n}\n",
    "expect_2d  = prop_2d.expectation_pauli_sum(layers_2d[-1], plus_label)\n",
    "print('3')\n",
    "print(expect_2d)"
   ]
  },
  {
   "cell_type": "code",
   "execution_count": 6,
   "id": "52d4344e",
   "metadata": {},
   "outputs": [
    {
     "name": "stdout",
     "output_type": "stream",
     "text": [
      "⟨X on qubit 0⟩ from statevector simulation: 0.157547\n"
     ]
    }
   ],
   "source": [
    "# ─── Evolve the statevector through the 2D staircase circuit ─────────────────\n",
    "psi0 = Statevector.from_label(plus_label)\n",
    "psi_final = psi0.evolve(qc_2d)\n",
    "\n",
    "# ─── Compute and print the expectation value ───────────────────────────────────\n",
    "exp_val = psi_final.expectation_value(obs).real\n",
    "print(f\"⟨X on qubit 0⟩ from statevector simulation: {exp_val:.6f}\")"
   ]
  },
  {
   "cell_type": "code",
   "execution_count": null,
   "id": "ed618516",
   "metadata": {},
   "outputs": [],
   "source": []
  },
  {
   "cell_type": "code",
   "execution_count": null,
   "id": "21ade4d2",
   "metadata": {},
   "outputs": [],
   "source": []
  },
  {
   "cell_type": "code",
   "execution_count": null,
   "id": "a81bc9de",
   "metadata": {},
   "outputs": [],
   "source": []
  },
  {
   "cell_type": "code",
   "execution_count": 8,
   "id": "bed96145",
   "metadata": {},
   "outputs": [],
   "source": [
    "# 今日任务： 确认以前的方法和现在的方法给出一样的答案(已完成)\n",
    "# 把pauli expectation方法也给numba/掩码化 (已完成)\n",
    "# 整理成package (已完成)\n",
    "# 跑通所有test suite (已完成)\n",
    "# \n"
   ]
  },
  {
   "cell_type": "code",
   "execution_count": null,
   "id": "07ff2b95",
   "metadata": {},
   "outputs": [],
   "source": []
  },
  {
   "cell_type": "code",
   "execution_count": null,
   "id": "055ce312",
   "metadata": {},
   "outputs": [],
   "source": []
  },
  {
   "cell_type": "code",
   "execution_count": null,
   "id": "81b4bdac",
   "metadata": {},
   "outputs": [],
   "source": []
  },
  {
   "cell_type": "code",
   "execution_count": null,
   "id": "be1cb557",
   "metadata": {},
   "outputs": [],
   "source": []
  }
 ],
 "metadata": {
  "kernelspec": {
   "display_name": "dis_qc",
   "language": "python",
   "name": "python3"
  },
  "language_info": {
   "codemirror_mode": {
    "name": "ipython",
    "version": 3
   },
   "file_extension": ".py",
   "mimetype": "text/x-python",
   "name": "python",
   "nbconvert_exporter": "python",
   "pygments_lexer": "ipython3",
   "version": "3.10.17"
  }
 },
 "nbformat": 4,
 "nbformat_minor": 5
}
