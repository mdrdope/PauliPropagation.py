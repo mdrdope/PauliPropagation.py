{
 "cells": [
  {
   "cell_type": "code",
   "execution_count": 30,
   "id": "82fd9078",
   "metadata": {},
   "outputs": [],
   "source": [
    "from dataclasses     import dataclass\n",
    "from typing          import Dict, List, Tuple\n",
    "import numpy         as np\n",
    "from qiskit.quantum_info import Pauli, Statevector\n",
    "from qiskit          import QuantumCircuit\n",
    "from collections     import defaultdict\n",
    "import random\n",
    "from qiskit.circuit.library import UnitaryGate  \n",
    "\n",
    "from pauli_propagation.utils import random_su4"
   ]
  },
  {
   "cell_type": "code",
   "execution_count": null,
   "id": "6ae088ec",
   "metadata": {},
   "outputs": [],
   "source": [
    "# Import Qiskit Library\n",
    "from qiskit import QuantumCircuit\n",
    "from qiskit.quantum_info import Pauli, Statevector\n",
    "from qiskit.circuit.library import UnitaryGate  \n",
    "\n",
    "from pauli_propagation import PauliTerm, PauliPropagator\n",
    "from pauli_propagation.utils import random_su4\n",
    "\n",
    "import matplotlib.pyplot as plt\n",
    "import logging\n",
    "import numpy as np\n",
    "import random\n",
    "\n",
    "logging.getLogger(\"matplotlib.font_manager\").setLevel(logging.ERROR)"
   ]
  },
  {
   "cell_type": "code",
   "execution_count": 9,
   "id": "8b9a0a4c",
   "metadata": {},
   "outputs": [],
   "source": [
    "\n",
    "def _staircase_edges(nx, ny):\n",
    "    \"\"\"Return the ordered list of 1-based index pairs of the staircase walk.\"\"\"\n",
    "    next_inds, temp_inds, edges = [1], [], []\n",
    "    while next_inds:\n",
    "        for ind in next_inds:\n",
    "            if ind % nx != 0:                      # step right\n",
    "                nxt = ind + 1\n",
    "                edges.append((ind, nxt)); temp_inds.append(nxt)\n",
    "            if ((ind-1)//nx + 1) < ny:             # step down\n",
    "                nxt = ind + nx\n",
    "                edges.append((ind, nxt)); temp_inds.append(nxt)\n",
    "        next_inds, temp_inds = temp_inds, []\n",
    "    seen, uniq = set(), []\n",
    "    for e in edges:                                # preserve order, dedup\n",
    "        if e not in seen:\n",
    "            seen.add(e); uniq.append(e)\n",
    "    return uniq\n",
    "\n",
    "def staircasetopology2d_qc(nx, ny):\n",
    "    \"\"\"\n",
    "    Build a QuantumCircuit that places a fresh SU(4) gate on every edge\n",
    "    of the 2-D staircase topology for an nx × ny grid (row-major indexing).\n",
    "    \"\"\"\n",
    "    nqubits = nx * ny\n",
    "    qc = QuantumCircuit(nqubits)\n",
    "    for k, (q1, q2) in enumerate(_staircase_edges(nx, ny)):  # 1-based\n",
    "        mat = random_su4()\n",
    "        gate = UnitaryGate(mat, label=f\"SU4_{k}\")   # create the gate\n",
    "        gate._name = \"su4\"                          # override its name\n",
    "        qc.append(gate, [q1-1, q2-1])               # 0-based\n",
    "    return qc\n",
    "\n",
    "# Example usage:\n",
    "nx, ny = 5,5\n",
    "qc_2d = staircasetopology2d_qc(nx, ny)\n",
    "\n",
    "# fig = qc_2d.draw(output=\"mpl\", fold=-1)   # no line-wrapping\n",
    "# plt.show()"
   ]
  },
  {
   "cell_type": "code",
   "execution_count": null,
   "id": "96e75e02",
   "metadata": {},
   "outputs": [],
   "source": [
    "n = qc_2d.num_qubits # Here n is number of qubit in 2d circuit\n",
    "\n",
    "plus_label = \"+\" * n # build a string of \"+\" of length n, e.g. \"+++++\"\n",
    "\n",
    "# ─── Build the single-qubit X observable on qubit 0 ───────────────────────────\n",
    "pauli_label = \"X\" + \"I\" * (n - 1) # For X on qubit 0 and Identity elsewhere, we need \"X\" + \"I\"*(n-1)\n",
    "obs = Pauli(pauli_label)\n",
    "\n",
    "# ─── Evolve the statevector through the 2D staircase circuit ─────────────────\n",
    "psi0 = Statevector.from_label(plus_label)\n",
    "psi_final = psi0.evolve(qc_2d)\n",
    "\n",
    "# ─── Compute and print the expectation value ───────────────────────────────────\n",
    "exp_val = psi_final.expectation_value(obs).real\n",
    "print(f\"⟨X on qubit 0⟩ from statevector simulation: {exp_val:.6f}\")"
   ]
  },
  {
   "cell_type": "code",
   "execution_count": 11,
   "id": "539bd38a",
   "metadata": {},
   "outputs": [],
   "source": [
    "# 5*5, 1 layer, k = 3, 12s\n",
    "# 5*5, 1 layer, "
   ]
  },
  {
   "cell_type": "code",
   "execution_count": 12,
   "id": "9fe8644b",
   "metadata": {},
   "outputs": [
    {
     "name": "stdout",
     "output_type": "stream",
     "text": [
      "1\n",
      "2\n",
      "3\n",
      "0.028912676043719256\n"
     ]
    }
   ],
   "source": [
    "# 感觉精度变差了，尝试提高精度\n",
    "\n",
    "prop_2d   = PauliPropagator(qc_2d)\n",
    "print('1')\n",
    "\n",
    "# 把字符串 → qiskit.Pauli → 位掩码\n",
    "key_obs = encode_pauli(Pauli(pauli_label))\n",
    "\n",
    "# 新构造方式：PauliTerm(coeff, key, n)\n",
    "obs_term = PauliTerm(1.0, key_obs, qc_2d.num_qubits)\n",
    "\n",
    "# 反向传播（可选 max_weight）\n",
    "layers_2d = prop_2d.propagate(obs_term, max_weight = 3)\n",
    "print('2')\n",
    "# 计算期望值\n",
    "plus_label = \"+\" * qc_2d.num_qubits         # |+⟩^{⊗n}\n",
    "expect_2d  = prop_2d.expectation_pauli_sum(layers_2d[-1], plus_label)\n",
    "print('3')\n",
    "print(expect_2d)"
   ]
  },
  {
   "cell_type": "code",
   "execution_count": 13,
   "id": "c62f55e6",
   "metadata": {},
   "outputs": [],
   "source": [
    "# -0.2206212726355423"
   ]
  },
  {
   "cell_type": "code",
   "execution_count": null,
   "id": "bed96145",
   "metadata": {},
   "outputs": [],
   "source": []
  },
  {
   "cell_type": "code",
   "execution_count": null,
   "id": "07ff2b95",
   "metadata": {},
   "outputs": [],
   "source": []
  },
  {
   "cell_type": "code",
   "execution_count": null,
   "id": "055ce312",
   "metadata": {},
   "outputs": [],
   "source": []
  },
  {
   "cell_type": "code",
   "execution_count": null,
   "id": "81b4bdac",
   "metadata": {},
   "outputs": [],
   "source": []
  },
  {
   "cell_type": "code",
   "execution_count": 32,
   "id": "2a8aa71f",
   "metadata": {},
   "outputs": [
    {
     "ename": "NameError",
     "evalue": "name 'PauliPropagator' is not defined",
     "output_type": "error",
     "traceback": [
      "\u001b[1;31m---------------------------------------------------------------------------\u001b[0m",
      "\u001b[1;31mNameError\u001b[0m                                 Traceback (most recent call last)",
      "Cell \u001b[1;32mIn[32], line 29\u001b[0m\n\u001b[0;32m     26\u001b[0m     qc\u001b[38;5;241m.\u001b[39mcx(qs2[\u001b[38;5;241m6\u001b[39m], qs2[\u001b[38;5;241m7\u001b[39m])\n\u001b[0;32m     27\u001b[0m     qc\u001b[38;5;241m.\u001b[39mcx(qs2[\u001b[38;5;241m8\u001b[39m], qs2[\u001b[38;5;241m9\u001b[39m])\n\u001b[1;32m---> 29\u001b[0m prop \u001b[38;5;241m=\u001b[39m \u001b[43mPauliPropagator\u001b[49m(qc)\n\u001b[0;32m     31\u001b[0m key \u001b[38;5;241m=\u001b[39m encode_pauli(Pauli(\u001b[38;5;124m\"\u001b[39m\u001b[38;5;124mX\u001b[39m\u001b[38;5;124m\"\u001b[39m \u001b[38;5;241m+\u001b[39m \u001b[38;5;124m\"\u001b[39m\u001b[38;5;124mI\u001b[39m\u001b[38;5;124m\"\u001b[39m\u001b[38;5;241m*\u001b[39m(num_qubits\u001b[38;5;241m-\u001b[39m\u001b[38;5;241m1\u001b[39m)))\n\u001b[0;32m     32\u001b[0m obs \u001b[38;5;241m=\u001b[39m PauliTerm(\u001b[38;5;241m1.0\u001b[39m, key, num_qubits)\n",
      "\u001b[1;31mNameError\u001b[0m: name 'PauliPropagator' is not defined"
     ]
    }
   ],
   "source": [
    "\n",
    "# %%\n",
    "# ─────────────────────────────\n",
    "#  对比测试\n",
    "# ─────────────────────────────\n",
    "\n",
    "num_qubits = 15\n",
    "qc = QuantumCircuit(num_qubits)\n",
    "random.seed(42)\n",
    "for _ in range(20):\n",
    "    qs = random.sample(range(num_qubits), 10)\n",
    "    qc.cx(qs[0], qs[1])\n",
    "    qc.cx(qs[2], qs[3])\n",
    "    qc.cx(qs[4], qs[5])\n",
    "    qc.cx(qs[6], qs[7])\n",
    "    qc.cx(qs[8], qs[9])\n",
    "\n",
    "    # ———— 给每个 qubit 都加 T ————\n",
    "    for q in range(num_qubits):\n",
    "        qc.t(q)\n",
    "\n",
    "    # ———— 第二轮随机 CNOT ————\n",
    "    qs2 = random.sample(range(num_qubits), 10)\n",
    "    qc.cx(qs2[0], qs2[1])\n",
    "    qc.cx(qs2[2], qs2[3])\n",
    "    qc.cx(qs2[4], qs2[5])\n",
    "    qc.cx(qs2[6], qs2[7])\n",
    "    qc.cx(qs2[8], qs2[9])\n",
    "\n",
    "prop = PauliPropagator(qc)\n",
    "\n",
    "key = encode_pauli(Pauli(\"X\" + \"I\"*(num_qubits-1)))\n",
    "obs = PauliTerm(1.0, key, num_qubits)\n",
    "\n",
    "layers = prop.propagate(obs)\n",
    "\n",
    "# 验证 expectation\n",
    "expv = prop.expectation_pauli_sum(layers[-1], \"+\"*num_qubits)\n",
    "print(\"expectation:\", expv)"
   ]
  },
  {
   "cell_type": "code",
   "execution_count": null,
   "id": "be1cb557",
   "metadata": {},
   "outputs": [],
   "source": []
  },
  {
   "cell_type": "code",
   "execution_count": null,
   "id": "7e409218",
   "metadata": {},
   "outputs": [],
   "source": []
  },
  {
   "cell_type": "code",
   "execution_count": 5,
   "id": "00b41112",
   "metadata": {},
   "outputs": [
    {
     "name": "stdout",
     "output_type": "stream",
     "text": [
      "Boolean-array version\n",
      "step 0: ['+1 IXI']\n",
      "step 1: ['+1 IXX']\n",
      "step 2: ['+0.707107 IXX', '+0.707107 IXY']\n",
      "step 3: ['+0.5 IXX', '+0.5 IYX', '+0.5 IXY', '+0.5 IYY']\n",
      "step 4: ['+0.5 IXX', '+0.5 IYX', '+0.5 IXY', '+0.5 IYY']\n",
      "step 5: ['+0.5 IXX', '+0.5 ZYX', '+0.5 IXY', '+0.5 ZYY']\n"
     ]
    }
   ],
   "source": [
    "import math\n",
    "\n",
    "# Convert two Boolean lists (x, z) into a readable Pauli string like 'IXY'\n",
    "def pauli_str(x, z):\n",
    "    symbols = []\n",
    "    for xi, zi in zip(x, z):\n",
    "        if xi == 0 and zi == 0: symbols.append('I')\n",
    "        elif xi == 1 and zi == 0: symbols.append('X')\n",
    "        elif xi == 1 and zi == 1: symbols.append('Y')\n",
    "        else:                     symbols.append('Z')\n",
    "    return ''.join(symbols)\n",
    "\n",
    "# Initial observable: IXI  (X on qubit-1)\n",
    "terms = [(1.0, [0, 1, 0], [0, 0, 0])]\n",
    "\n",
    "gates = [\n",
    "    (\"CX\", 1, 2),   # CNOT  control-1  target-2   (Heisenberg backward)\n",
    "    (\"T\",  2),\n",
    "    (\"T\",  1),\n",
    "    (\"T\",  0),\n",
    "    (\"CX\", 0, 1)    # CNOT  control-0  target-1\n",
    "]\n",
    "\n",
    "print(\"Boolean-array version\")\n",
    "step = 0\n",
    "print(f\"step {step}: {[f'{coeff:+g} {pauli_str(x, z)}' for coeff, x, z in terms]}\")\n",
    "\n",
    "for gate in gates:\n",
    "    step += 1\n",
    "    new_terms = []\n",
    "    for coeff, x, z in terms:\n",
    "        if gate[0] == \"CX\":\n",
    "            _, c, t = gate\n",
    "            x_c, z_t = x[c], z[t]\n",
    "            x2, z2 = x.copy(), z.copy()\n",
    "            if x_c:\n",
    "                x2[t] ^= 1          # X_t  -> X_t  XOR X_c\n",
    "            if z_t:\n",
    "                z2[c] ^= 1          # Z_c  -> Z_c  XOR Z_t\n",
    "            new_terms.append((coeff, x2, z2))\n",
    "\n",
    "        else:                       # T gate\n",
    "            _, q = gate\n",
    "            x_q, z_q = x[q], z[q]\n",
    "            if (z_q and not x_q) or (not x_q and not z_q):\n",
    "                new_terms.append((coeff, x.copy(), z.copy()))      # I or Z branch\n",
    "            else:\n",
    "                c1 = coeff / math.sqrt(2)\n",
    "                c2 = -c1 if z_q else c1\n",
    "                new_terms.append((c1, x.copy(), z.copy()))         # keep branch\n",
    "                x2, z2 = x.copy(), z.copy()\n",
    "                z2[q] ^= 1                                         # flip Z_q\n",
    "                new_terms.append((c2, x2, z2))\n",
    "\n",
    "    terms = new_terms\n",
    "    print(f\"step {step}: {[f'{coeff:+g} {pauli_str(x, z)}' for coeff, x, z in terms]}\")\n"
   ]
  },
  {
   "cell_type": "code",
   "execution_count": null,
   "id": "fe08c41f",
   "metadata": {},
   "outputs": [],
   "source": []
  },
  {
   "cell_type": "code",
   "execution_count": 20,
   "id": "53275ee8",
   "metadata": {},
   "outputs": [
    {
     "name": "stdout",
     "output_type": "stream",
     "text": [
      "\n",
      "Bit-mask version\n",
      "step 0: ['+1 IXI']\n",
      "step 1: ['+1 IXX']\n",
      "step 2: ['+0.707107 IXX', '+0.707107 IXY']\n",
      "step 3: ['+0.5 IXX', '+0.5 IYX', '+0.5 IXY', '+0.5 IYY']\n",
      "step 4: ['+0.5 IXX', '+0.5 IYX', '+0.5 IXY', '+0.5 IYY']\n",
      "step 5: ['+0.5 IXX', '+0.5 ZYX', '+0.5 IXY', '+0.5 ZYY']\n"
     ]
    }
   ],
   "source": [
    "import math\n",
    "\n",
    "# Convert two integer bit-masks (x_bits, z_bits) into a readable Pauli string\n",
    "def pauli_str_bits(x_bits, z_bits, n_qubits=3):\n",
    "    symbols = []\n",
    "    for i in range(n_qubits):\n",
    "        xi = (x_bits >> i) & 1\n",
    "        zi = (z_bits >> i) & 1\n",
    "        if xi == 0 and zi == 0: symbols.append('I')\n",
    "        elif xi == 1 and zi == 0: symbols.append('X')\n",
    "        elif xi == 1 and zi == 1: symbols.append('Y')\n",
    "        else:                     symbols.append('Z')\n",
    "    return ''.join(symbols)\n",
    "\n",
    "# Initial observable: IXI  (X on qubit-1)\n",
    "terms = [(1.0, 1 << 1, 0)]     # x_bits=0b010, z_bits=0\n",
    "\n",
    "gates = [\n",
    "    (\"CX\", 1, 2),\n",
    "    (\"T\",  2),\n",
    "    (\"T\",  1),\n",
    "    (\"T\",  0),\n",
    "    (\"CX\", 0, 1)\n",
    "]\n",
    "\n",
    "print(\"\\nBit-mask version\")\n",
    "step = 0\n",
    "print(f\"step {step}: {[f'{coeff:+g} {pauli_str_bits(xb, zb)}' for coeff, xb, zb in terms]}\")\n",
    "\n",
    "for gate in gates:\n",
    "    step += 1\n",
    "    new_terms = []\n",
    "    for coeff, xb, zb in terms:\n",
    "        if gate[0] == \"CX\":\n",
    "            _, c, t = gate\n",
    "            x_c = (xb >> c) & 1\n",
    "            z_t = (zb >> t) & 1\n",
    "            xb2 = xb ^ ((1 << t) if x_c else 0)\n",
    "            zb2 = zb ^ ((1 << c) if z_t else 0)\n",
    "            new_terms.append((coeff, xb2, zb2))\n",
    "\n",
    "        else:                       # T gate\n",
    "            _, q = gate\n",
    "            x_q = (xb >> q) & 1\n",
    "            z_q = (zb >> q) & 1\n",
    "            if (z_q and not x_q) or (not x_q and not z_q):\n",
    "                new_terms.append((coeff, xb, zb))\n",
    "            else:\n",
    "                c1 = coeff / math.sqrt(2)\n",
    "                c2 = -c1 if z_q else c1\n",
    "                new_terms.append((c1, xb, zb))\n",
    "                xb2, zb2 = xb, zb ^ (1 << q)\n",
    "                new_terms.append((c2, xb2, zb2))\n",
    "\n",
    "    terms = new_terms\n",
    "    print(f\"step {step}: {[f'{coeff:+g} {pauli_str_bits(xb, zb)}' for coeff, xb, zb in terms]}\")\n"
   ]
  },
  {
   "cell_type": "code",
   "execution_count": 21,
   "id": "69e57a1d",
   "metadata": {},
   "outputs": [
    {
     "name": "stdout",
     "output_type": "stream",
     "text": [
      "I: [(1.0, 0, 0), (-0.0, 0, 0)]\n",
      "X: [(0.7071067811865475, 1, 0), (-0.7071067811865475, 1, 1)]\n",
      "Y: [(0.7071067811865475, 1, 1), (0.7071067811865475, 1, 0)]\n",
      "Z: [(1.0, 0, 1), (0.0, 0, 1)]\n"
     ]
    }
   ],
   "source": [
    "import math\n",
    "\n",
    "def t_dag_branchless(terms, q):\n",
    "    \"\"\"\n",
    "    Branchless conjugation by T† on qubit q.\n",
    "    terms: list of (coeff, x_bits, z_bits)\n",
    "    q: target qubit index (0-based)\n",
    "    Returns: new list of (coeff, x_bits, z_bits)\n",
    "    \"\"\"\n",
    "    new_terms = []\n",
    "    inv_sqrt2 = 1 / math.sqrt(2)\n",
    "    for coeff, x_bits, z_bits in terms:\n",
    "        x_q = (x_bits >> q) & 1\n",
    "        z_q = (z_bits >> q) & 1\n",
    "        \n",
    "        # Compute coefficients without branches\n",
    "        c1 = coeff * ((1 - x_q) + x_q * inv_sqrt2)\n",
    "        c2 = coeff * (x_q * ((2 * z_q - 1) * inv_sqrt2))\n",
    "        \n",
    "        # Only flip Z bit when x_q == 1\n",
    "        zmask = x_q << q\n",
    "        \n",
    "        # Append both branches\n",
    "        new_terms.append((c1, x_bits,        z_bits))\n",
    "        new_terms.append((c2, x_bits, z_bits ^ zmask))\n",
    "    \n",
    "    return new_terms\n",
    "\n",
    "# Demonstration for each P in {I, X, Y, Z} on qubit 0\n",
    "test_terms = {\n",
    "    'I': [(1.0, 0,        0       )],\n",
    "    'X': [(1.0, 1 << 0,   0       )],\n",
    "    'Y': [(1.0, 1 << 0,   1 << 0  )],\n",
    "    'Z': [(1.0, 0,        1 << 0  )]\n",
    "}\n",
    "\n",
    "for label, terms in test_terms.items():\n",
    "    result = t_dag_branchless(terms, 0)\n",
    "    print(f\"{label}: {result}\")\n"
   ]
  },
  {
   "cell_type": "code",
   "execution_count": 23,
   "id": "c2589053",
   "metadata": {},
   "outputs": [
    {
     "data": {
      "text/plain": [
       "{'I': [(1.0, 0, 0)],\n",
       " 'X': [(1.0, 1, 0)],\n",
       " 'Y': [(1.0, 1, 1)],\n",
       " 'Z': [(1.0, 0, 1)]}"
      ]
     },
     "execution_count": 23,
     "metadata": {},
     "output_type": "execute_result"
    }
   ],
   "source": [
    "test_terms = {\n",
    "    'I': [(1.0, 0,        0       )],\n",
    "    'X': [(1.0, 1 << 0,   0       )],\n",
    "    'Y': [(1.0, 1 << 0,   1 << 0  )],\n",
    "    'Z': [(1.0, 0,        1 << 0  )]\n",
    "}\n",
    "\n",
    "test_terms \n"
   ]
  },
  {
   "cell_type": "code",
   "execution_count": 11,
   "id": "d092bfa7",
   "metadata": {},
   "outputs": [
    {
     "data": {
      "text/plain": [
       "2"
      ]
     },
     "execution_count": 11,
     "metadata": {},
     "output_type": "execute_result"
    }
   ],
   "source": [
    " # 这是一个位运算表达式，表示将数字1左移1位\n",
    " # 结果等于2，因为1的二进制是0001，左移1位后变成0010，即十进制的2\n",
    "1<<1"
   ]
  },
  {
   "cell_type": "code",
   "execution_count": null,
   "id": "ed71a89b",
   "metadata": {},
   "outputs": [],
   "source": []
  }
 ],
 "metadata": {
  "kernelspec": {
   "display_name": "dis_qc",
   "language": "python",
   "name": "python3"
  },
  "language_info": {
   "codemirror_mode": {
    "name": "ipython",
    "version": 3
   },
   "file_extension": ".py",
   "mimetype": "text/x-python",
   "name": "python",
   "nbconvert_exporter": "python",
   "pygments_lexer": "ipython3",
   "version": "3.10.17"
  }
 },
 "nbformat": 4,
 "nbformat_minor": 5
}
