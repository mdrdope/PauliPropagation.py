{
 "cells": [
  {
   "cell_type": "code",
   "execution_count": 3,
   "metadata": {},
   "outputs": [],
   "source": []
  },
  {
   "cell_type": "code",
   "execution_count": 9,
   "metadata": {},
   "outputs": [
    {
     "name": "stdout",
     "output_type": "stream",
     "text": [
      "654321\n"
     ]
    }
   ],
   "source": [
    "# reverse a thing in place\n",
    "\n",
    "a = '123456'\n",
    "a_list = list(a)\n",
    "l, r = 0, len(a)-1\n",
    "\n",
    "while l < r:\n",
    "    a_list[l] ,a_list[r] = a_list[r], a_list[l]\n",
    "    l += 1\n",
    "    r -= 1\n",
    "a_rev = \"\".join(a_list)\n",
    "print(a_rev)"
   ]
  },
  {
   "cell_type": "code",
   "execution_count": 10,
   "metadata": {},
   "outputs": [
    {
     "name": "stdout",
     "output_type": "stream",
     "text": [
      "b\n"
     ]
    }
   ],
   "source": [
    "# first character that appeared only once in string\n",
    "\n",
    "s = \"abaccdeff\"\n",
    "\n",
    "count = {}\n",
    "\n",
    "for ch in s:\n",
    "    count[ch] = count.get(ch,0) + 1\n",
    "\n",
    "for ch in s:\n",
    "    if count[ch] == 1:\n",
    "        print(ch)\n",
    "        break"
   ]
  },
  {
   "cell_type": "code",
   "execution_count": null,
   "metadata": {},
   "outputs": [],
   "source": [
    "# remove a vowel from a string\n",
    "# then remove consonant instead of vowl\n",
    "\n",
    "\n",
    "def remove_vowel(s):\n",
    "    vowels = \"aeiouAEIOU\"\n",
    "    result = \"\"\n",
    "    for ch in s:\n",
    "        if ch not in vowels:\n",
    "            result += ch\n",
    "    return result\n"
   ]
  },
  {
   "cell_type": "code",
   "execution_count": null,
   "metadata": {},
   "outputs": [],
   "source": [
    "# fibonacci sequence\n",
    "# 1, 1, 2, 3, 5, 8, 13, 21, 34, 55, 89, 144, ...\n",
    "import math\n",
    "\n",
    "def fib(n):\n",
    "    if n < 2:\n",
    "        return n\n",
    "    a, b = 0, 1\n",
    "    for _ in range(2, n+1):\n",
    "        a, b = b, a+b\n",
    "        return b\n",
    "\n",
    "\n"
   ]
  },
  {
   "cell_type": "code",
   "execution_count": 15,
   "metadata": {},
   "outputs": [
    {
     "data": {
      "text/plain": [
       "5"
      ]
     },
     "execution_count": 15,
     "metadata": {},
     "output_type": "execute_result"
    }
   ],
   "source": [
    "# Given a list of length n, find the kth largest number.\n",
    "nums = [3,2,1,5,6,4]\n",
    "k = 2\n",
    "nums.sort()\n",
    "nums[-k]\n"
   ]
  },
  {
   "cell_type": "code",
   "execution_count": 18,
   "metadata": {},
   "outputs": [
    {
     "name": "stdout",
     "output_type": "stream",
     "text": [
      "<built-in method items of dict object at 0x0000013B63FE51C0>\n",
      "<built-in method items of dict object at 0x0000013B63FE51C0>\n",
      "<built-in method items of dict object at 0x0000013B63FE51C0>\n",
      "4\n"
     ]
    }
   ],
   "source": [
    "# Given a list of n duplicates and one unique number, \n",
    "# such that the list has length 2n+1, find the unique number\n",
    "\n",
    "nums = [5,1,4,1,5]\n",
    "\n",
    "counts = {}\n",
    "\n",
    "for x in nums:\n",
    "    counts[x] = counts.get(x, 0) + 1\n",
    "\n",
    "for x, cnt in counts.items():\n",
    "    print(counts.items)\n",
    "    if cnt == 1:\n",
    "        unique = x\n",
    "        break\n",
    "\n",
    "print(unique)"
   ]
  },
  {
   "cell_type": "code",
   "execution_count": 22,
   "metadata": {},
   "outputs": [
    {
     "name": "stdout",
     "output_type": "stream",
     "text": [
      "30\n"
     ]
    }
   ],
   "source": [
    "# The string S is initially empty. \n",
    "# You can either append a character to S for 5 points or \n",
    "# copy any substring of S that ends at the current rightmost character\n",
    "# and append that to S for 5 points. What's the minimum cost to construct\n",
    "# the string \"abhihibhihi\"?\n",
    "\n",
    "T = \"abhihibhihi\"\n",
    "N = len(T)\n",
    "\n",
    "# dp[i] is the smallest cost for reconstructing T[:i]\n",
    "# dp[0] is the smallest cost for reconstructing T[:0] = None\n",
    "dp = [float('inf') ] *(N+1)\n",
    "dp[0] = 0\n",
    "\n",
    "for i in range(1, N+1):\n",
    "    dp[i] = dp[i-1] + 5 # append the last\n",
    "\n",
    "    for j in range(1,i): # check if \n",
    "        L = i-j \n",
    "        k = j-L\n",
    "        if k >= 0 and T[k:j] == T[j:i]:\n",
    "            dp[i] = min(dp[i], dp[j] + 5)\n",
    "print(dp[-1])\n",
    "\n",
    "# ?? 没完全懂"
   ]
  },
  {
   "cell_type": "code",
   "execution_count": 23,
   "metadata": {},
   "outputs": [
    {
     "name": "stdout",
     "output_type": "stream",
     "text": [
      "-40\n"
     ]
    }
   ],
   "source": [
    "# Questions about profit and loss. Returning the minimal value among; \n",
    "# return(t=current) – max(return(t=0…t-1))\n",
    "\n",
    "# P is price list\n",
    "P = [100, 120, 110, 130, 90]\n",
    "\n",
    "max_price_so_far = P[0]\n",
    "\n",
    "max_drawdown = 0\n",
    "\n",
    "for current_price in P[1:]:\n",
    "    drawdown = current_price - max_price_so_far\n",
    "\n",
    "    max_drawdown = min(max_drawdown, drawdown)\n",
    "\n",
    "    if current_price > max_price_so_far:\n",
    "        max_price_so_far = current_price\n",
    "\n",
    "print(max_drawdown)\n"
   ]
  },
  {
   "cell_type": "code",
   "execution_count": null,
   "metadata": {},
   "outputs": [],
   "source": [
    "# I have an array of values \n",
    "# and at each step; I can increment all the elements apart from 1 by 1. What is the minimum\n",
    "# steps to get an array with every element being the same?\n",
    "\n",
    "\n",
    "arr = [2,5,7]\n",
    "\n",
    "n = len(arr)\n",
    "\n",
    "total = sum(arr)\n",
    "\n",
    "minimum = min(arr)\n",
    "\n",
    "# Initial array: [2, 5, 7]\n",
    "# Step 1: exclude index 1, array = [3, 5, 8]\n",
    "# Step 2: exclude index 1, array = [4, 5, 9]\n",
    "# Step 3: exclude index 1, array = [5, 5, 10]\n",
    "# Step 4: exclude index 2, array = [6, 6, 10]\n",
    "# Step 5: exclude index 2, array = [7, 7, 10]\n",
    "# Step 6: exclude index 2, array = [8, 8, 10]\n",
    "# Step 7: exclude index 2, array = [9, 9, 10]\n",
    "# Step 8: exclude index 2, array = [10, 10, 10]\n",
    "\n",
    "# 没懂??"
   ]
  },
  {
   "cell_type": "code",
   "execution_count": null,
   "metadata": {},
   "outputs": [],
   "source": [
    "# If you have an array of integers (the sequence) and you sort them in increasing order, then find the longest\n",
    "# subsequence such that the sum of the differences between the elements within the subsequence (consecutive\n",
    "# elements as it’s now in increasing order) is even. Return that subsequence.\n"
   ]
  },
  {
   "cell_type": "code",
   "execution_count": null,
   "metadata": {},
   "outputs": [],
   "source": [
    "# OA code Q1\n",
    "def findLongestSubsequence(arr):\n",
    "    n = len(arr)\n",
    "    if n <= 1:\n",
    "        return \n",
    "    \n",
    "    arr.sort()\n",
    "\n",
    "    if (arr[0] & 1) == (arr[-1] &1):\n",
    "        return n\n",
    "    \n",
    "    left = 0\n",
    "    right_parity = arr[-1] & 1\n",
    "    while left < n and (arr[left] & 1) != right_parity:\n",
    "        left += 1\n",
    "    len_a = n - left\n",
    "\n",
    "    right = n - 1\n",
    "    left_parity = arr[0] & 1\n",
    "    while right >= 0 and (arr[right] &1) != left_parity:\n",
    "        right -= 1\n",
    "    len_b = right +1\n",
    "    \n",
    "    return max(len_a, len_b)"
   ]
  },
  {
   "cell_type": "code",
   "execution_count": 3,
   "metadata": {},
   "outputs": [
    {
     "data": {
      "text/plain": [
       "0"
      ]
     },
     "execution_count": 3,
     "metadata": {},
     "output_type": "execute_result"
    }
   ],
   "source": [
    "# OA code Q2\n",
    "\n",
    "def getMaxBarrier(initialEnergy,th):\n",
    "    low, high = 0, max(initialEnergy)\n",
    "    best = 0\n",
    "\n",
    "    while low <= high:\n",
    "        mid = (low+ high) //2 # current barrier to test\n",
    "        total = 0\n",
    "\n",
    "        # compute the sum of energy when barrier = mid\n",
    "        for e in initialEnergy:\n",
    "            if e > mid:\n",
    "                total += (e - mid)\n",
    "\n",
    "            if total >= th:\n",
    "                break # \n",
    "\n",
    "        # check if mid is feasible, can try a larger barrier\n",
    "        if total >= th:\n",
    "            best = mid\n",
    "            low = mid + 1\n",
    "        else:\n",
    "            high = mid -1 # infeasible, go lower\n",
    "            \n",
    "    return best"
   ]
  },
  {
   "cell_type": "code",
   "execution_count": 5,
   "metadata": {},
   "outputs": [
    {
     "data": {
      "text/plain": [
       "0"
      ]
     },
     "execution_count": 5,
     "metadata": {},
     "output_type": "execute_result"
    }
   ],
   "source": [
    "cur_stair = 0\n",
    "min_stair = 0\n",
    "\n",
    "jumps = []\n",
    "\n",
    "for jump in jumps:\n",
    "    cur_stair += jump\n",
    "return max(-,0) + 1"
   ]
  },
  {
   "cell_type": "code",
   "execution_count": null,
   "metadata": {},
   "outputs": [],
   "source": [
    "我面试要怎么准备这个？给我完整的context,你记住你的回答不得超过300个字，只给我最精华的一到两个例子，我没时间看那么多东西"
   ]
  }
 ],
 "metadata": {
  "kernelspec": {
   "display_name": "base",
   "language": "python",
   "name": "python3"
  },
  "language_info": {
   "codemirror_mode": {
    "name": "ipython",
    "version": 3
   },
   "file_extension": ".py",
   "mimetype": "text/x-python",
   "name": "python",
   "nbconvert_exporter": "python",
   "pygments_lexer": "ipython3",
   "version": "3.12.3"
  }
 },
 "nbformat": 4,
 "nbformat_minor": 2
}
